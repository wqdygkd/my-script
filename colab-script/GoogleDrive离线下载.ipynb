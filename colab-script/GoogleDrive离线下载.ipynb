{
  "nbformat": 4,
  "nbformat_minor": 0,
  "metadata": {
    "colab": {
      "name": "GoogleDrive离线下载.ipynb",
      "provenance": [],
      "collapsed_sections": [],
      "toc_visible": true,
      "include_colab_link": true
    },
    "kernelspec": {
      "display_name": "Python 3",
      "language": "python",
      "name": "python3"
    }
  },
  "cells": [
    {
      "cell_type": "markdown",
      "metadata": {
        "id": "view-in-github",
        "colab_type": "text"
      },
      "source": [
        "<a href=\"https://colab.research.google.com/github/cuilongjin/static/blob/main/colab-script/GoogleDrive%E7%A6%BB%E7%BA%BF%E4%B8%8B%E8%BD%BD.ipynb\" target=\"_parent\"><img src=\"https://colab.research.google.com/assets/colab-badge.svg\" alt=\"Open In Colab\"/></a>"
      ]
    },
    {
      "cell_type": "markdown",
      "metadata": {
        "id": "aQuWDmfm9YOi"
      },
      "source": [
        "#  Google Drive 离线下载\n"
      ]
    },
    {
      "cell_type": "markdown",
      "metadata": {
        "id": "ZQ5Vqgy_XEla"
      },
      "source": [
        "###使用说明"
      ]
    },
    {
      "cell_type": "markdown",
      "metadata": {
        "id": "xYtyCsRQXcS3"
      },
      "source": [
        "**挂载团队盘的方式如下**\n",
        "\n",
        "默认挂载个人盘，如果容量不够大或者有需要可以修改为团队盘，提供两种方法：\n",
        "\n",
        "第一种方法 创建团队盘的快捷方式，并移动到个人盘，在第三步中修改为快捷方式的路径，即可下载到团队盘。\n",
        "\n",
        "第二种方法 将第三步中的路径，修改为`/content/drive/Shareddrives/你的团队盘名称/文件夹` 。不要下载到团队盘根目录，要在团队盘下建立一个文件夹进行下载。\n",
        "\n",
        "**关于文件下载大小的说明**\n",
        "\n",
        "个人对此的建议是不要超过70G因为你的实例有100G，但是实际可用其实只有70G。所以每次下载无论你是单文件，还是多文件都别超过70G（具体看右上角的容量），分批下载。不要着急。不然被封24小时了。\n",
        "\n",
        "**感谢：**\n",
        "\n",
        "https://fklc.dev/ 加拿大大佬提供google colab下载技术\n",
        "\n",
        "https://lemongeek.com/712.html 提供的一些说明"
      ]
    },
    {
      "cell_type": "markdown",
      "metadata": {
        "id": "NaFa7M-e9YOr"
      },
      "source": [
        "### ①安装 libtorrent 并初始化"
      ]
    },
    {
      "cell_type": "code",
      "metadata": {
        "id": "m6hF0emftx4h",
        "cellView": "form"
      },
      "source": [
        "#@title 点击这里运行，运行完成后进行下一步\n",
        "!apt install python3-libtorrent\n",
        "\n",
        "import libtorrent as lt\n",
        "\n",
        "ses = lt.session()\n",
        "ses.listen_on(6881, 6891)\n",
        "downloads = []"
      ],
      "execution_count": null,
      "outputs": []
    },
    {
      "cell_type": "markdown",
      "metadata": {
        "id": "Uf90U73y9YOj"
      },
      "source": [
        "### ②挂载 Google Drive\n",
        "\n",
        "传输文件需要挂载 Google Drive."
      ]
    },
    {
      "cell_type": "code",
      "metadata": {
        "id": "oWM9l2fvtuvO",
        "cellView": "form"
      },
      "source": [
        "#@title 点击这里运行，运行后会提示打开链接，登录你的账户，获取授权码，并在输入框中输入。完成后进行下一步\n",
        "from google.colab import drive\n",
        "\n",
        "drive.mount(\"/content/drive\")"
      ],
      "execution_count": null,
      "outputs": []
    },
    {
      "cell_type": "markdown",
      "metadata": {
        "id": "R_1XuuIf9YOn"
      },
      "source": [
        "### ③添加 Torrent 种子文件\n",
        "\n",
        "上传种子文件或添加磁力链接，磁力链接请往下看。如需修改下载路径，在运行前修改，见下方注释。点击后上传种子文件。"
      ]
    },
    {
      "cell_type": "code",
      "metadata": {
        "id": "0et2A6N3udA0"
      },
      "source": [
        "from google.colab import files\n",
        "\n",
        "source = files.upload()\n",
        "params = {\n",
        "    \"save_path\": \"/content/drive/My Drive/离线下载\", # 此处修改下载路径\n",
        "    \"ti\": lt.torrent_info(list(source.keys())[0]),\n",
        "}\n",
        "downloads.append(ses.add_torrent(params))"
      ],
      "execution_count": null,
      "outputs": []
    },
    {
      "cell_type": "markdown",
      "metadata": {
        "id": "WD-6M6eZyzmj"
      },
      "source": [
        "### OR 添加磁力链接\n",
        "\n",
        "添加磁力链接。如需修改下载路径，在运行前修改，见下方注释。点击后粘贴链接，回车键输入，完成后输入exit退出。"
      ]
    },
    {
      "cell_type": "code",
      "metadata": {
        "id": "Cwi1GMlxy3te"
      },
      "source": [
        "params = {\"save_path\": \"/content/drive/My Drive/Torrent\"}\n",
        "\n",
        "while True:\n",
        "    magnet_link = input(\"Enter Magnet Link Or Type Exit: \")\n",
        "    if magnet_link.lower() == \"exit\":\n",
        "        break\n",
        "    downloads.append(\n",
        "        lt.add_magnet_uri(ses, magnet_link, params)\n",
        "    )\n"
      ],
      "execution_count": null,
      "outputs": []
    },
    {
      "cell_type": "markdown",
      "metadata": {
        "id": "m-a1CUP39YOu"
      },
      "source": [
        "### ④开始下载\n",
        "\n",
        "Source: https://stackoverflow.com/a/5494823/7957705 and [#3 issue](https://github.com/FKLC/Torrent-To-Google-Drive-Downloader/issues/3) which refers to this [stackoverflow question](https://stackoverflow.com/a/6053350/7957705)"
      ]
    },
    {
      "cell_type": "code",
      "metadata": {
        "id": "DBNoYYoSuDBT",
        "cellView": "form"
      },
      "source": [
        "#@title 点击开始下载。可以关闭此页面进行。\n",
        "import time\n",
        "from IPython.display import display\n",
        "import ipywidgets as widgets\n",
        "\n",
        "state_str = [\n",
        "    \"queued\",\n",
        "    \"checking\",\n",
        "    \"downloading metadata\",\n",
        "    \"downloading\",\n",
        "    \"finished\",\n",
        "    \"seeding\",\n",
        "    \"allocating\",\n",
        "    \"checking fastresume\",\n",
        "]\n",
        "\n",
        "layout = widgets.Layout(width=\"auto\")\n",
        "style = {\"description_width\": \"initial\"}\n",
        "download_bars = [\n",
        "    widgets.FloatSlider(\n",
        "        step=0.01, disabled=True, layout=layout, style=style\n",
        "    )\n",
        "    for _ in downloads\n",
        "]\n",
        "display(*download_bars)\n",
        "\n",
        "while downloads:\n",
        "    next_shift = 0\n",
        "    for index, download in enumerate(downloads[:]):\n",
        "        bar = download_bars[index + next_shift]\n",
        "        if not download.is_seed():\n",
        "            s = download.status()\n",
        "\n",
        "            bar.description = \" \".join(\n",
        "                [\n",
        "                    download.name(),\n",
        "                    str(s.download_rate / 1000),\n",
        "                    \"kB/s\",\n",
        "                    state_str[s.state],\n",
        "                ]\n",
        "            )\n",
        "            bar.value = s.progress * 100\n",
        "        else:\n",
        "            next_shift -= 1\n",
        "            ses.remove_torrent(download)\n",
        "            downloads.remove(download)\n",
        "            bar.close() # Seems to be not working in Colab (see https://github.com/googlecolab/colabtools/issues/726#issue-486731758)\n",
        "            download_bars.remove(bar)\n",
        "            print(download.name(), \"complete\")\n",
        "    time.sleep(1)"
      ],
      "execution_count": null,
      "outputs": []
    }
  ]
}