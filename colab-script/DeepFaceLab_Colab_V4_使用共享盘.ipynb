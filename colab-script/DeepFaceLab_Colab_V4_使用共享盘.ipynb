{
  "nbformat": 4,
  "nbformat_minor": 0,
  "metadata": {
    "colab": {
      "name": "DeepFaceLab_Colab_V4_使用共享盘.ipynb",
      "provenance": [],
      "collapsed_sections": [],
      "toc_visible": true,
      "include_colab_link": true
    },
    "kernelspec": {
      "name": "python3",
      "display_name": "Python 3"
    },
    "accelerator": "GPU"
  },
  "cells": [
    {
      "cell_type": "markdown",
      "metadata": {
        "id": "view-in-github",
        "colab_type": "text"
      },
      "source": [
        "<a href=\"https://colab.research.google.com/github/cuilongjin/static/blob/main/colab-script/DeepFaceLab_Colab_V4_%E4%BD%BF%E7%94%A8%E5%85%B1%E4%BA%AB%E7%9B%98.ipynb\" target=\"_parent\"><img src=\"https://colab.research.google.com/assets/colab-badge.svg\" alt=\"Open In Colab\"/></a>"
      ]
    },
    {
      "cell_type": "markdown",
      "metadata": {
        "id": "KWQMLYlFrTXz"
      },
      "source": [
        "# 简介\n",
        "\n",
        "无需多说，一路运行即可！\n",
        "\n",
        "此脚本由**[托尼是塔克](https://wxp123.me)**创建，仅用于学习，请勿滥用。如有疑问，拉到最后！"
      ]
    },
    {
      "cell_type": "code",
      "metadata": {
        "id": "AmGMbWZef1XI",
        "cellView": "form"
      },
      "source": [
        "#@title 查看分配到的设备\n",
        "# 查看设备，是K80还是T4,如果是K80...！\n",
        "! /opt/bin/nvidia-smi"
      ],
      "execution_count": null,
      "outputs": []
    },
    {
      "cell_type": "markdown",
      "metadata": {
        "id": "Xe6GPID86rZg"
      },
      "source": [
        "**为防止90分钟自动断开，请在浏览器控制台（按F12然后转到Console）中输入以下命令以防止断开。**\r\n",
        "```javascript\r\n",
        "function ConnectButton(){\r\n",
        "    console.log(\"Connect pushed\"); \r\n",
        "    document.querySelector(\"#connect\").click() \r\n",
        "}\r\n",
        "setInterval(ConnectButton,60000);\r\n",
        "```\r\n",
        "**这个脚本没有任何危害或影响，只是定时***调戏***以下这个页面以防止断开，如果复制的文件少就不用执行这一步。**"
      ]
    },
    {
      "cell_type": "markdown",
      "metadata": {
        "id": "ldpC3PjRrYYh"
      },
      "source": [
        "# 第一步 准备好workspace\n",
        "这一步你可以选着两种方式\n",
        "1. 使用默认的workspace，你无需自己上传，仅用于熟悉操作。\n",
        "2. 通过Google Drive （谷歌云盘）上传自己的workspace到指定目录。\n",
        "\n",
        "\n",
        "\n",
        "谷歌云盘地址：https://drive.google.com/drive/my-drive  \n",
        "注意：谷歌网址现在都需要“科学上网”才能访问。  "
      ]
    },
    {
      "cell_type": "code",
      "metadata": {
        "id": "D7toZxhT4J9W",
        "cellView": "form"
      },
      "source": [
        "#@title 开始挂载 \n",
        "#挂载谷歌云盘\n",
        "#点击链接授权，复制授权码，填入框框，然后回车。\n",
        "\n",
        "from google.colab import drive\n",
        "drive.mount('/content/drive', force_remount=True)\n",
        "\n",
        "#创建DeepFaceLab目录，并且进入目录\n",
        "\n",
        "%cd /content/drive/\n",
        "!ls\n",
        "\n",
        "%cd /content/drive/Shareddrives/wqdy/\n",
        "!mkdir DeepFaceLab\n",
        "%cd /content/drive/Shareddrives/wqdy/DeepFaceLab/\n"
      ],
      "execution_count": null,
      "outputs": []
    },
    {
      "cell_type": "markdown",
      "metadata": {
        "id": "_nyimmWVKk8V"
      },
      "source": [
        "这一环节有两个选择：  \n",
        "如果你第一次使用，可以加载示例项目，然后往后运行。  \n",
        "如果你是二次运行，就不需要加载了。  \n",
        "如果你希望上传本地素材，可以先用pack脚本把素材打包成faceset.pak到aligned目录，无须解压，可直接进行训练和转换，加载速度会很快。\n"
      ]
    },
    {
      "cell_type": "code",
      "metadata": {
        "id": "cNsq0I98KvHl",
        "cellView": "form"
      },
      "source": [
        "#@title 加载示例项目workspace \n",
        "# 1. 练手可以使用这一行，直接git clone一个workspace\n",
        "%cd /content/drive/Shareddrives/wqdy/DeepFaceLab/\n",
        "!rm -rf workspace\n",
        "!git clone https://github.com/dream80/DFLWorkspace.git workspace"
      ],
      "execution_count": null,
      "outputs": []
    },
    {
      "cell_type": "markdown",
      "metadata": {
        "id": "yA4nziLPtAf9"
      },
      "source": [
        "#第二步 安装DeepFaceLab\n",
        "获取源代码，安装依赖,根据自己的情况选择版本  \n",
        "\n",
        "last:最新版  "
      ]
    },
    {
      "cell_type": "code",
      "metadata": {
        "id": "4CbWbLzHzqTQ",
        "cellView": "form"
      },
      "source": [
        "#@title 重新安装\n",
        "\n",
        "Version = \"last\" #@param [\"v2.02.03\", \"v2.02.23b\", \"v2.02.28\",\"v2.03.07\",\"v2.03.15\",\"v2.06.01\",\"v2.06.19\",\"last\"]\n",
        "%cd /content/drive/Shareddrives/wqdy/DeepFaceLab\n",
        "!rm -fr DeepFaceLab_Colab\n",
        "!pip uninstall -y tensorflow\n",
        "if Version==\"620\":\n",
        "  print(\"620版加载中....\")\n",
        "  # 获取DFL源代码v1.6.1稳定版\n",
        "  !git clone -b v1.6.1 https://github.com/dream80/DeepFaceLab_Colab.git\n",
        "  %cd ./DeepFaceLab_Colab\n",
        "  !pip install -r requirements-colab.txt  \n",
        "elif Version==\"last\":\n",
        "  print(\"最新版加载中....\")\n",
        "  !git clone https://github.com/iperov/DeepFaceLab.git  DeepFaceLab_Colab\n",
        "  %cd ./DeepFaceLab_Colab\n",
        "  !pip install -r requirements-colab.txt\n",
        "else:\n",
        "  print(Version+\"加载中....\")\n",
        "  cmd=\"clone -b \"+Version+\" https://github.com/dream80/DeepFaceLab_Colab.git\"  \n",
        "  !git $cmd\n",
        "  %cd ./DeepFaceLab_Colab\n",
        "  !pip install -r requirements-colab.txt\n",
        "\n",
        "!pip install --upgrade scikit-image\n",
        "!sudo apt-get install cuda-10-0\n"
      ],
      "execution_count": null,
      "outputs": []
    },
    {
      "cell_type": "code",
      "metadata": {
        "cellView": "form",
        "id": "ZEiVPIiPfHt4"
      },
      "source": [
        "#@title 不重新安装，仅安装依赖\n",
        "\n",
        "%cd /content/drive/Shareddrives/wqdy/DeepFaceLab\n",
        "!pip uninstall -y tensorflow\n",
        "%cd ./DeepFaceLab_Colab\n",
        "!pip install -r requirements-colab.txt  \n",
        "!pip install --upgrade scikit-image\n",
        "!sudo apt-get install cuda-10-0"
      ],
      "execution_count": null,
      "outputs": []
    },
    {
      "cell_type": "markdown",
      "metadata": {
        "id": "9G9s5gJrty-x"
      },
      "source": [
        "# 第三步. 提取脸部"
      ]
    },
    {
      "cell_type": "markdown",
      "metadata": {
        "id": "llMCZb-uMuD1"
      },
      "source": [
        "这个步骤其实是分两次的。第一次选src，第二次选dst，很多对Deepfacelab不了解的人可能只点了一个，后面就会报错了。  \n",
        "  \n",
        "这一步，其实有三个小步骤，分解视频，提取人脸，打包素材。 如果有需要可以将他们拆分开来。一般是不用这么做的。 \n",
        "\n",
        "\n",
        "\n"
      ]
    },
    {
      "cell_type": "markdown",
      "metadata": {
        "id": "6flnCGqpIeen"
      },
      "source": [
        ""
      ]
    },
    {
      "cell_type": "code",
      "metadata": {
        "id": "YnhZyEERAW_D",
        "cellView": "form"
      },
      "source": [
        "#@title 开始提取\n",
        "target = \"dst\" #@param [\"src\",\"dst\"]\n",
        "%cd /content/drive/Shareddrives/wqdy/DeepFaceLab/DeepFaceLab_Colab\n",
        "if target==\"src\":\n",
        "  !python main.py videoed extract-video --input-file ../workspace/data_src.mp4 --output-dir ../workspace/data_src/\n",
        "  !python main.py extract --input-dir ../workspace/data_src --output-dir ../workspace/data_src/aligned --detector s3fd\n",
        "  !python main.py util --input-dir ../workspace/data_src/aligned  --pack-faceset\n",
        "else:\n",
        "  !python main.py videoed extract-video --input-file ../workspace/data_dst.mp4 --output-dir ../workspace/data_dst/\n",
        "  !python main.py extract --input-dir ../workspace/data_dst --output-dir ../workspace/data_dst/aligned --detector s3fd --output-debug\n",
        "  !python main.py util --input-dir ../workspace/data_dst/aligned  --pack-faceset\n"
      ],
      "execution_count": null,
      "outputs": []
    },
    {
      "cell_type": "code",
      "metadata": {
        "id": "5MrM8JfIFiy7",
        "cellView": "form"
      },
      "source": [
        "#@title 开始排序\n",
        "target = \"dst\" #@param [\"src\",\"dst\"]\n",
        "\n",
        "if target==\"src\":\n",
        "  #Src排序，可以通过谷歌云盘查看结果，删除不良图片\n",
        "  cmd = \"main.py sort --input-dir ../workspace/data_src/aligned\"\n",
        "  \n",
        "else:\n",
        "  cmd = \"main.py sort --input-dir ../workspace/data_dst/aligned \"\n",
        "\n",
        "!python $cmd"
      ],
      "execution_count": null,
      "outputs": []
    },
    {
      "cell_type": "markdown",
      "metadata": {
        "id": "QxO1kNO_uRTF"
      },
      "source": [
        "# 第四步. 训练模型\n",
        "\n",
        "\n",
        "*  支持SAEHD,Quick96等模型，根据自己的情况选择模型。\n",
        "*  第一次需要配置模型参数，不懂的直接回车默认。\n",
        "*  不想训练了可以点击停止，停止时会抛出异常，但是没什么关系。下次可以继续训练"
      ]
    },
    {
      "cell_type": "code",
      "metadata": {
        "id": "MKQbOrIiyFJL",
        "colab": {
          "base_uri": "https://localhost:8080/"
        },
        "cellView": "form",
        "outputId": "fa8b7197-c331-4661-abe6-eae32576c139"
      },
      "source": [
        "#@title 开始训练\n",
        "Model = \"SAEHD\" #@param [\"SAEHD\",\"Quick96\"]\n",
        "\n",
        "%cd \"/content/drive/Shareddrives/wqdy/DeepFaceLab/DeepFaceLab_Colab/\"\n",
        "cmd = \"main.py train --training-data-src-dir ../workspace/data_src/aligned --training-data-dst-dir ../workspace/data_dst/aligned --model-dir ../workspace/model --model \"+Model+\" --no-preview\"\n",
        "!python $cmd"
      ],
      "execution_count": null,
      "outputs": [
        {
          "output_type": "stream",
          "text": [
            "/content/drive/Shareddrives/wqdy/DeepFaceLab/DeepFaceLab_Colab\n",
            "Running trainer.\n",
            "\n",
            "Choose one of saved models, or enter a name to create a new model.\n",
            "[r] : rename\n",
            "[d] : delete\n",
            "\n",
            "[0] : zsy - latest\n",
            " : zsy1\n",
            "zsy1\n",
            "\n",
            "Model first run.\n",
            "\n",
            "Choose one or several GPU idxs (separated by comma).\n",
            "\n",
            "[CPU] : CPU\n",
            "  [0] : Tesla T4\n",
            "\n",
            "[0] Which GPU indexes to choose? : \n",
            "0\n",
            "\n",
            "\n",
            "[0] Autobackup every N hour ( 0..24 ?:help ) : 0\n",
            "[n] Write preview history ( y/n ?:help ) : \n",
            "n\n",
            "[0] Target iteration : \n",
            "0\n",
            "[y] Flip faces randomly ( y/n ?:help ) : \n",
            "y\n",
            "[8] Batch_size ( ?:help ) : \n",
            "8\n",
            "[128] Resolution ( 64-640 ?:help ) : \n",
            "128\n",
            "[f] Face type ( h/mf/f/wf/head ?:help ) : \n",
            "f\n",
            "[liae-ud] AE architecture ( ?:help ) : \n",
            "liae-ud\n",
            "[256] AutoEncoder dimensions ( 32-1024 ?:help ) : \n",
            "256\n",
            "[64] Encoder dimensions ( 16-256 ?:help ) : \n",
            "64\n",
            "[64] Decoder dimensions ( 16-256 ?:help ) : \n",
            "64\n",
            "[22] Decoder mask dimensions ( 16-256 ?:help ) : \n",
            "22\n",
            "[n] Eyes and mouth priority ( y/n ?:help ) : \n",
            "n\n",
            "[n] Uniform yaw distribution of samples ( y/n ?:help ) : \n",
            "n\n",
            "[y] Place models and optimizer on GPU ( y/n ?:help ) : \n",
            "y\n",
            "[y] Use AdaBelief optimizer? ( y/n ?:help ) : \n",
            "y\n",
            "[n] Use learning rate dropout ( n/y/cpu ?:help ) : \n",
            "n\n",
            "[y] Enable random warp of samples ( y/n ?:help ) : \n",
            "y\n",
            "[0.0] GAN power ( 0.0 .. 1.0 ?:help ) : \n",
            "0.0\n",
            "[0.0] Face style power ( 0.0..100.0 ?:help ) : \n",
            "0.0\n",
            "[0.0] Background style power ( 0.0..100.0 ?:help ) : \n",
            "0.0\n",
            "[none] Color transfer for src faceset ( none/rct/lct/mkl/idt/sot ?:help ) : \n",
            "none\n",
            "[n] Enable gradient clipping ( y/n ?:help ) : \n",
            "n\n",
            "[n] Enable pretraining mode ( y/n ?:help ) : \n",
            "n\n",
            "Initializing models:   0% 0/5 [00:00<?, ?it/s]\n",
            "Initializing models: 100% 5/5 [00:36<00:00,  7.24s/it]\n",
            "Loaded 8077 packed faces from /content/drive/Shareddrives/wqdy/DeepFaceLab/workspace/data_src/aligned\n",
            "Loaded 3591 packed faces from /content/drive/Shareddrives/wqdy/DeepFaceLab/workspace/data_dst/aligned\n",
            "============ Model Summary ============\n",
            "==                                   ==\n",
            "==            Model name: zsy1_SAEHD ==\n",
            "==                                   ==\n",
            "==     Current iteration: 0          ==\n",
            "==                                   ==\n",
            "==---------- Model Options ----------==\n",
            "==                                   ==\n",
            "==            resolution: 128        ==\n",
            "==             face_type: f          ==\n",
            "==     models_opt_on_gpu: True       ==\n",
            "==                 archi: liae-ud    ==\n",
            "==               ae_dims: 256        ==\n",
            "==                e_dims: 64         ==\n",
            "==                d_dims: 64         ==\n",
            "==           d_mask_dims: 22         ==\n",
            "==       masked_training: True       ==\n",
            "==       eyes_mouth_prio: False      ==\n",
            "==           uniform_yaw: False      ==\n",
            "==             adabelief: True       ==\n",
            "==            lr_dropout: n          ==\n",
            "==           random_warp: True       ==\n",
            "==       true_face_power: 0.0        ==\n",
            "==      face_style_power: 0.0        ==\n",
            "==        bg_style_power: 0.0        ==\n",
            "==               ct_mode: none       ==\n",
            "==              clipgrad: False      ==\n",
            "==              pretrain: False      ==\n",
            "==       autobackup_hour: 0          ==\n",
            "== write_preview_history: False      ==\n",
            "==           target_iter: 0          ==\n",
            "==           random_flip: True       ==\n",
            "==            batch_size: 8          ==\n",
            "==             gan_power: 0.0        ==\n",
            "==        gan_patch_size: 16         ==\n",
            "==              gan_dims: 16         ==\n",
            "==                                   ==\n",
            "==----------- Running On ------------==\n",
            "==                                   ==\n",
            "==          Device index: 0          ==\n",
            "==                  Name: Tesla T4   ==\n",
            "==                  VRAM: 14.73GB    ==\n",
            "==                                   ==\n",
            "=======================================\n",
            "Starting. Press \"Enter\" to stop training and save model.\n",
            "\n",
            "Trying to do the first iteration. If an error occurs, reduce the model parameters.\n",
            "\n",
            "You are training the model from scratch. It is strongly recommended to use a pretrained model to speed up the training and improve the quality.\n",
            "\n",
            "[03:04:00][#000002][0375ms][4.9858][4.6734]\n",
            "[03:18:55][#000817][0437ms][1.4006][1.3072]\n",
            "[03:33:55][#002796][0404ms][0.8866][0.6950]\n",
            "[03:48:55][#004881][0380ms][0.7119][0.5065]\n",
            "[04:03:55][#006961][0400ms][0.6321][0.4284]\n",
            "[04:10:57][#007942][0413ms][0.5628][0.4390]"
          ],
          "name": "stdout"
        }
      ]
    },
    {
      "cell_type": "markdown",
      "metadata": {
        "id": "oVfZpBR00gBG"
      },
      "source": [
        "**模型预览方法请参考：**\n",
        "https://www.wxp123.me/p/329\n",
        "\n",
        "简单描述：左侧->文件->/driver/..../model/ *preview*.jpg->双击  \n",
        "  \n",
        "这种方法比在脚本中预览和在网盘预览都要方便，并且无需启动预览配置！"
      ]
    },
    {
      "cell_type": "markdown",
      "metadata": {
        "id": "m2Ba96cVuS0K"
      },
      "source": [
        "# 第五步. 转换输出\n",
        "\n",
        "训练模型的时候选了什么，这里就选什么  \n",
        "比如训练H128,这里就选H128\n"
      ]
    },
    {
      "cell_type": "code",
      "metadata": {
        "id": "G_oEgeU7I9jt",
        "cellView": "form"
      },
      "source": [
        "#@title 开始转换图片\n",
        "\n",
        "Model = \"SAEHD\" #@param [\"SAEHD\", \"Quick96\"]\n",
        "%cd \"/content/drive/Shareddrives/wqdy/DeepFaceLab/DeepFaceLab_Colab/\"\n",
        "cmd = \" main.py merge --output-mask-dir ../workspace/data_dst/merged_mask --input-dir ../workspace/data_dst --output-dir ../workspace/data_dst/merged --aligned-dir ../workspace/data_dst/aligned --model-dir ../workspace/model --model \" + Model\n",
        "!python $cmd"
      ],
      "execution_count": null,
      "outputs": []
    },
    {
      "cell_type": "code",
      "metadata": {
        "id": "fbxfQ8UbJrqk",
        "cellView": "form"
      },
      "source": [
        "#@title 开始图片转视频\n",
        "!python main.py videoed video-from-sequence --input-dir ../workspace/data_dst/merged --output-file ../workspace/result.mp4 --reference-file ../workspace/data_dst.mp4 --include-audio\n",
        "!python main.py videoed video-from-sequence --input-dir ../workspace/data_dst/merged_mask --output-file ../workspace/result_mask.mp4 --reference-file ../workspace/data_dst.mp4 --include-audio --lossless"
      ],
      "execution_count": null,
      "outputs": []
    },
    {
      "cell_type": "markdown",
      "metadata": {
        "id": "cVfp8xbY5ykL"
      },
      "source": [
        "#第六步. 继续训练\n",
        "当你第二次开始训练，或者掉线之后继续训练时并不需要执行上面所有的步骤。只需要下面简单的几个步骤。\n",
        "1. 挂载云盘\n",
        "2. 安装依赖\n",
        "3. 开始训练  \n"
      ]
    },
    {
      "cell_type": "code",
      "metadata": {
        "id": "veL_8afb6WcP",
        "cellView": "form"
      },
      "source": [
        "#@title 一键运行\n",
        "#挂载谷歌云盘\n",
        "#点击链接授权，复制授权码，填入框框，然后回车。\n",
        "\n",
        "Model = \"SAEHD\" #@param [\"SAEHD\" , \"Quick96\"]\n",
        "\n",
        "\n",
        "from google.colab import drive\n",
        "drive.mount('/content/drive', force_remount=True)\n",
        "\n",
        "\n",
        "# 进入DeepFaceLab_Colab目录\n",
        "%cd /content/drive/Shareddrives/wqdy/DeepFaceLab/DeepFaceLab_Colab\n",
        "\n",
        "# 安装Python依赖\n",
        "!pip uninstall -y tensorflow\n",
        "!pip install -r requirements-colab.txt\n",
        "!pip install --upgrade scikit-image\n",
        "!sudo apt-get install cuda-10-0\n",
        "\n",
        "# 开始训练SAE ，如果是其他模型，修改后面的参数即可，比如H128。\n",
        "cmd = \"main.py train --training-data-src-dir ../workspace/data_src/aligned --training-data-dst-dir ../workspace/data_dst/aligned --model-dir ../workspace/model --model \"+Model+\" --no-preview\"\n",
        "!python $cmd "
      ],
      "execution_count": null,
      "outputs": []
    },
    {
      "cell_type": "markdown",
      "metadata": {
        "id": "siaPGJ1QVacj"
      },
      "source": [
        "# 工具\n"
      ]
    },
    {
      "cell_type": "markdown",
      "metadata": {
        "id": "WGLTllAHYAPJ"
      },
      "source": [
        "\n",
        "打包素材。可以加快上传，下载，加载的速度。"
      ]
    },
    {
      "cell_type": "code",
      "metadata": {
        "id": "fphcCxuh9Qfw",
        "cellView": "form"
      },
      "source": [
        "#@title 素材打包\n",
        "\n",
        "target = \"src\" #@param [\"src\",\"dst\"]\n",
        "%cd /content/drive/Shareddrives/wqdy/DeepFaceLab/DeepFaceLab_Colab\n",
        "if target==\"src\":\n",
        "  !python main.py util --input-dir ../workspace/data_src/aligned  --pack-faceset\n",
        "else:\n",
        "  !python main.py util --input-dir ../workspace/data_dst/aligned  --pack-faceset\n",
        " \n",
        "  "
      ],
      "execution_count": null,
      "outputs": []
    },
    {
      "cell_type": "code",
      "metadata": {
        "id": "bC2CyDDx6siX",
        "cellView": "form"
      },
      "source": [
        "#@title 素材解包\n",
        "\n",
        "target = \"src\" #@param [\"src\",\"dst\"]\n",
        "%cd /content/drive/Shareddrives/wqdy/DeepFaceLab/DeepFaceLab_Colab\n",
        "if target==\"src\":\n",
        "  !python main.py util --input-dir ../workspace/data_src/aligned --unpack-faceset\n",
        "else:\n",
        "  !python main.py util --input-dir ../workspace/data_dst/aligned --unpack-faceset\n",
        " \n",
        "  "
      ],
      "execution_count": null,
      "outputs": []
    },
    {
      "cell_type": "code",
      "metadata": {
        "id": "NYDWkORS6xum",
        "cellView": "form"
      },
      "source": [
        "#@title 素材增强\n",
        "\n",
        "target = \"src\" #@param [\"src\"]\n",
        "%cd /content/drive/Shareddrives/wqdy/DeepFaceLab/DeepFaceLab_Colab\n",
        "if target==\"src\":\n",
        "  !python main.py facesettool enhance --input-dir ../workspace/data_src/aligned\n",
        "else:\n",
        "  !python main.py facesettool enhance --input-dir ../workspace/data_dst/aligned\n",
        " \n",
        "  "
      ],
      "execution_count": null,
      "outputs": []
    },
    {
      "cell_type": "code",
      "metadata": {
        "id": "vP1uchODuwYI",
        "cellView": "form"
      },
      "source": [
        "#@title 移动到共享盘\n",
        "\n",
        "target = \"Shareddrives/wqdy\" #@param [\"Shareddrives/wqdy\"]\n",
        "%cd /content/drive/My Drive/DeepFaceLab/workspace\n",
        "!cp -rfpv ./ /content/drive/Shareddrives/wqdy/DeepFaceLab/workspace"
      ],
      "execution_count": null,
      "outputs": []
    },
    {
      "cell_type": "markdown",
      "metadata": {
        "id": "5H85SsIW1PI3"
      },
      "source": [
        "# 其他\n",
        "\n",
        "  QQ群：659480116  \n",
        "    \n",
        " 谷歌云地址：https://drive.google.com/drive/my-drive\n",
        "\n",
        " 作者邮箱 ：wpgdream@gmail.com\n",
        " \n",
        " 使用教程：https://www.wxp123.me\n",
        " \n",
        " \n",
        "不求别的，只求在github给个小星星^_^\n",
        "\n",
        "https://github.com/dream80/DeepFaceLab_Colab\n",
        "\n",
        "右上角star 谢谢!!!  \n",
        "  \n"
      ]
    }
  ]
}