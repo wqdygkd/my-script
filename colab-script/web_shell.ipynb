{
  "cells": [
    {
      "cell_type": "markdown",
      "metadata": {
        "colab_type": "text",
        "id": "view-in-github"
      },
      "source": [
        "<a href=\"https://colab.research.google.com/github/wqdygkd/static/blob/main/colab-script/web_shell.ipynb\" target=\"_parent\"><img src=\"https://colab.research.google.com/assets/colab-badge.svg\" alt=\"Open In Colab\"/></a>"
      ]
    },
    {
      "cell_type": "code",
      "execution_count": null,
      "metadata": {
        "id": "Xnzo4K1aB0jT"
      },
      "outputs": [],
      "source": [
        "    #挂载gd\n",
        "    from google.colab import drive\n",
        "    drive.mount('/content/gdrive')"
      ]
    },
    {
      "cell_type": "code",
      "execution_count": null,
      "metadata": {
        "id": "3m1lzcTxB3Fq"
      },
      "outputs": [],
      "source": [
        "#运行这一段，输入token 有概率失败然后重新运行 获取账户端口和密码\n",
        "!pip install kora\n",
        "from kora import console\n",
        "console.start()"
      ]
    }
  ],
  "metadata": {
    "colab": {
      "collapsed_sections": [],
      "include_colab_link": true,
      "name": "web-shell.ipynb",
      "provenance": []
    },
    "kernelspec": {
      "display_name": "Python 3",
      "name": "python3"
    }
  },
  "nbformat": 4,
  "nbformat_minor": 0
}
