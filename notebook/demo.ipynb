{
 "cells": [
  {
   "cell_type": "markdown",
   "metadata": {},
   "source": [
    "选择文件"
   ]
  },
  {
   "cell_type": "code",
   "execution_count": null,
   "metadata": {},
   "outputs": [],
   "source": [
    "import tkinter as tk\n",
    "from tkinter import filedialog\n",
    "root = tk.Tk()\n",
    "root.withdraw()\n",
    "filepath = filedialog.askopenfilename()\n",
    "print(filepath)"
   ]
  },
  {
   "cell_type": "markdown",
   "metadata": {},
   "source": [
    "解析文件"
   ]
  },
  {
   "cell_type": "code",
   "execution_count": null,
   "metadata": {},
   "outputs": [],
   "source": [
    "# 打开文件\n",
    "f = open(filepath, \"r\")\n",
    "print (\"文件名为: \", f.name)\n",
    "\n",
    "#依次读取每行\n",
    "for line in f.readlines():\n",
    "    #去掉每行头尾空白\n",
    "    line = line.strip()\n",
    "    print (\"读取的数据为: %s\" % (line))\n",
    "    # ss vmess trojan\n",
    "\n",
    "    line.index('ss:')\n",
    "\n",
    "# 关闭文件\n",
    "f.close()"
   ]
  },
  {
   "cell_type": "code",
   "execution_count": 5,
   "metadata": {},
   "outputs": [
    {
     "name": "stdout",
     "output_type": "stream",
     "text": [
      "['V', 'S', 'c', 'W', 'R', 'I', 'P', '4']\n"
     ]
    }
   ],
   "source": [
    "import random\n",
    "import string\n",
    "\n",
    "random.randint(0, 0xFFFFFFFF)\n",
    "print(random.choices(string.ascii_letters + string.digits, k=8))\n"
   ]
  }
 ],
 "metadata": {
  "interpreter": {
   "hash": "2e379b3e3b6b671fd207c558b7378d87828f4cf8940cd2aa78b8a08f3ebd24ba"
  },
  "kernelspec": {
   "display_name": "Python 3.9.7 64-bit",
   "name": "python3"
  },
  "language_info": {
   "codemirror_mode": {
    "name": "ipython",
    "version": 3
   },
   "file_extension": ".py",
   "mimetype": "text/x-python",
   "name": "python",
   "nbconvert_exporter": "python",
   "pygments_lexer": "ipython3",
   "version": "3.9.7"
  }
 },
 "nbformat": 4,
 "nbformat_minor": 2
}
