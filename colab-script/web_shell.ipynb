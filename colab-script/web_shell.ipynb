{
  "nbformat": 4,
  "nbformat_minor": 0,
  "metadata": {
    "colab": {
      "name": "web-shell.ipynb",
      "provenance": [],
      "collapsed_sections": [],
      "include_colab_link": true
    },
    "kernelspec": {
      "name": "python3",
      "display_name": "Python 3"
    }
  },
  "cells": [
    {
      "cell_type": "markdown",
      "metadata": {
        "id": "view-in-github",
        "colab_type": "text"
      },
      "source": [
        "<a href=\"https://colab.research.google.com/github/cuilongjin/static/blob/main/colab-script/web_shell.ipynb\" target=\"_parent\"><img src=\"https://colab.research.google.com/assets/colab-badge.svg\" alt=\"Open In Colab\"/></a>"
      ]
    },
    {
      "cell_type": "code",
      "metadata": {
        "id": "Xnzo4K1aB0jT"
      },
      "source": [
        "    #挂载gd\n",
        "    from google.colab import drive\n",
        "    drive.mount('/content/gdrive')"
      ],
      "execution_count": null,
      "outputs": []
    },
    {
      "cell_type": "code",
      "metadata": {
        "id": "3m1lzcTxB3Fq"
      },
      "source": [
        "#运行这一段，输入token 有概率失败然后重新运行 获取账户端口和密码\n",
        "!pip install kora\n",
        "from kora import console\n",
        "console.start()"
      ],
      "execution_count": null,
      "outputs": []
    }
  ]
}